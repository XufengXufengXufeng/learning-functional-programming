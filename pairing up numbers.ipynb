{
 "cells": [
  {
   "cell_type": "code",
   "execution_count": 20,
   "metadata": {
    "collapsed": true
   },
   "outputs": [],
   "source": [
    "from itertools import *\n",
    "from random import shuffle, randint\n",
    "import pdb\n",
    "from time import time\n",
    "from functools import reduce\n",
    "import numpy as np\n",
    "import pandas as pd"
   ]
  },
  {
   "cell_type": "markdown",
   "metadata": {},
   "source": [
    "## to find one closest number in an array for every number in that same array"
   ]
  },
  {
   "cell_type": "code",
   "execution_count": 4,
   "metadata": {},
   "outputs": [],
   "source": [
    "a = np.arange(1,9000)\n",
    "shuffle(a)"
   ]
  },
  {
   "cell_type": "code",
   "execution_count": 9,
   "metadata": {},
   "outputs": [
    {
     "data": {
      "text/plain": [
       "([[888, 889], [5222, 5223], [8606, 8605], [2144, 2145]], 25.852617025375366)"
      ]
     },
     "execution_count": 9,
     "metadata": {},
     "output_type": "execute_result"
    }
   ],
   "source": [
    "#%%timeit\n",
    "start = time()\n",
    "pairs = []\n",
    "for x in a:\n",
    "    closest = 1\n",
    "    dist = 100\n",
    "    for w in a:\n",
    "        if w!=x and abs(x-w)<dist:\n",
    "            closest = w\n",
    "            dist = abs(x-w)\n",
    "    pairs.append([x,closest])\n",
    "end = time()\n",
    "pairs[:4],end-start"
   ]
  },
  {
   "cell_type": "markdown",
   "metadata": {},
   "source": [
    "Next I think of a way to get rid of the for loops with some maps. However, it takes longer to process the function with maps, which should be faster because map uses multiple threads as I recall it. I do see memory usage gets much higher than when it was the loops."
   ]
  },
  {
   "cell_type": "code",
   "execution_count": 11,
   "metadata": {},
   "outputs": [
    {
     "data": {
      "text/plain": [
       "([[888, 889], [5222, 5223], [8606, 8605], [2144, 2145]], 37.11013698577881)"
      ]
     },
     "execution_count": 11,
     "metadata": {},
     "output_type": "execute_result"
    }
   ],
   "source": [
    "#%%timeit\n",
    "start = time()\n",
    "def get_exclusion(k): c = list(a).copy(); c.remove(k); return c\n",
    "line_up = list(tuple(map(lambda x:(list(repeat(x,len(a)-1)),get_exclusion(x)),a)))\n",
    "mid = time()\n",
    "def get_pair(w,p): index = np.argmin(list(map(lambda aa,bb:abs(aa-bb),w,p)));pair=[w[0],p[index]];return pair\n",
    "pairs = list(starmap(get_pair,line_up))\n",
    "end = time()\n",
    "pairs[:4],end-start"
   ]
  },
  {
   "cell_type": "markdown",
   "metadata": {},
   "source": [
    "I continue explore and use all functions with only one execution line. This attempt has all maps and iterators, should be faster. However, I see it takes even longer but strangely enough not higher memory usage."
   ]
  },
  {
   "cell_type": "code",
   "execution_count": 12,
   "metadata": {},
   "outputs": [
    {
     "data": {
      "text/plain": [
       "([[888, 889], [5222, 5223], [8606, 8605], [2144, 2145]], 36.182109355926514)"
      ]
     },
     "execution_count": 12,
     "metadata": {},
     "output_type": "execute_result"
    }
   ],
   "source": [
    "#%%timeit\n",
    "start = time()\n",
    "def get_exclusion(k): c = list(a).copy(); c.remove(k); return c\n",
    "mid1 = time()\n",
    "def get_closest(w):\n",
    "    def closer(aa,bb):\n",
    "        if abs(aa-w)>abs(bb-w):\n",
    "            return bb\n",
    "        else:\n",
    "            return aa\n",
    "    closest = reduce(closer,get_exclusion(w))\n",
    "    return [w,closest]\n",
    "mid2 = time()\n",
    "pairs = list(map(get_closest,a))\n",
    "end = time()\n",
    "pairs[:4],end - start"
   ]
  },
  {
   "cell_type": "code",
   "execution_count": 44,
   "metadata": {},
   "outputs": [],
   "source": [
    "b = np.arange(1,1000000)"
   ]
  },
  {
   "cell_type": "code",
   "execution_count": 45,
   "metadata": {},
   "outputs": [
    {
     "data": {
      "text/plain": [
       "1.0577807426452637"
      ]
     },
     "execution_count": 45,
     "metadata": {},
     "output_type": "execute_result"
    }
   ],
   "source": [
    "start = time()\n",
    "sqrt = list(map(np.sqrt,b))\n",
    "end = time()\n",
    "end-start"
   ]
  },
  {
   "cell_type": "code",
   "execution_count": 46,
   "metadata": {},
   "outputs": [
    {
     "data": {
      "text/plain": [
       "1.332533836364746"
      ]
     },
     "execution_count": 46,
     "metadata": {},
     "output_type": "execute_result"
    }
   ],
   "source": [
    "start = time()\n",
    "sqrt = []\n",
    "for x in b:\n",
    "    sqrt.append(np.sqrt(x))\n",
    "end = time()\n",
    "end - start"
   ]
  },
  {
   "cell_type": "code",
   "execution_count": 47,
   "metadata": {},
   "outputs": [
    {
     "data": {
      "text/plain": [
       "0.008504152297973633"
      ]
     },
     "execution_count": 47,
     "metadata": {},
     "output_type": "execute_result"
    }
   ],
   "source": [
    "bb = pd.Series(b)\n",
    "start = time()\n",
    "bb.apply(np.sqrt)\n",
    "end = time()\n",
    "end-start"
   ]
  },
  {
   "cell_type": "code",
   "execution_count": 49,
   "metadata": {},
   "outputs": [
    {
     "data": {
      "text/plain": [
       "(0      [888, 889]\n",
       " 1    [5222, 5223]\n",
       " 2    [8606, 8605]\n",
       " 3    [2144, 2145]\n",
       " dtype: object, 51.39401364326477)"
      ]
     },
     "execution_count": 49,
     "metadata": {},
     "output_type": "execute_result"
    }
   ],
   "source": [
    "aa = pd.Series(a)\n",
    "#%%timeit\n",
    "start = time()\n",
    "def get_exclusion(k): c = list(a).copy(); c.remove(k); return c\n",
    "mid1 = time()\n",
    "def get_closest(w):\n",
    "    def closer(aa,bb):\n",
    "        if abs(aa-w)>abs(bb-w):\n",
    "            return bb\n",
    "        else:\n",
    "            return aa\n",
    "    closest = reduce(closer,get_exclusion(w))\n",
    "    return [w,closest]\n",
    "mid2 = time()\n",
    "pairs = aa.apply(get_closest)\n",
    "end = time()\n",
    "pairs[:4],end - start"
   ]
  },
  {
   "cell_type": "code",
   "execution_count": 64,
   "metadata": {
    "collapsed": true
   },
   "outputs": [],
   "source": [
    "aaa = np.arange(1,300000)"
   ]
  },
  {
   "cell_type": "code",
   "execution_count": 67,
   "metadata": {},
   "outputs": [
    {
     "data": {
      "text/plain": [
       "(1, 0.08104896545410156)"
      ]
     },
     "execution_count": 67,
     "metadata": {},
     "output_type": "execute_result"
    }
   ],
   "source": [
    "start = time()\n",
    "smallest = aaa[0]\n",
    "for i in range(len(aaa)-1):\n",
    "    if aaa[i]<smallest:\n",
    "        smallest = aaa[i+1]\n",
    "end = time()\n",
    "smallest,end-start"
   ]
  },
  {
   "cell_type": "code",
   "execution_count": 68,
   "metadata": {},
   "outputs": [
    {
     "data": {
      "text/plain": [
       "(1, 0.06254291534423828)"
      ]
     },
     "execution_count": 68,
     "metadata": {},
     "output_type": "execute_result"
    }
   ],
   "source": [
    "start = time()\n",
    "def smaller(x,y):\n",
    "    if x>y:\n",
    "        return y\n",
    "    else:\n",
    "        return x\n",
    "smallest = reduce(smaller,aaa)\n",
    "end = time()\n",
    "smallest,end-start"
   ]
  },
  {
   "cell_type": "code",
   "execution_count": 69,
   "metadata": {},
   "outputs": [
    {
     "data": {
      "text/plain": [
       "(1, 0.0005002021789550781)"
      ]
     },
     "execution_count": 69,
     "metadata": {},
     "output_type": "execute_result"
    }
   ],
   "source": [
    "start = time()\n",
    "smallest = np.min(aaa)\n",
    "#smallest = min(a)\n",
    "end = time()\n",
    "smallest, end-start"
   ]
  },
  {
   "cell_type": "code",
   "execution_count": null,
   "metadata": {
    "collapsed": true
   },
   "outputs": [],
   "source": []
  }
 ],
 "metadata": {
  "kernelspec": {
   "display_name": "Python 3",
   "language": "python",
   "name": "python3"
  },
  "language_info": {
   "codemirror_mode": {
    "name": "ipython",
    "version": 3
   },
   "file_extension": ".py",
   "mimetype": "text/x-python",
   "name": "python",
   "nbconvert_exporter": "python",
   "pygments_lexer": "ipython3",
   "version": "3.5.3"
  }
 },
 "nbformat": 4,
 "nbformat_minor": 2
}
